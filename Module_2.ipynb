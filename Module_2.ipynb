{
  "nbformat": 4,
  "nbformat_minor": 0,
  "metadata": {
    "colab": {
      "name": "Module_2.ipynb",
      "version": "0.3.2",
      "provenance": [],
      "include_colab_link": true
    },
    "kernelspec": {
      "name": "python3",
      "display_name": "Python 3"
    }
  },
  "cells": [
    {
      "cell_type": "markdown",
      "metadata": {
        "id": "view-in-github",
        "colab_type": "text"
      },
      "source": [
        "<a href=\"https://colab.research.google.com/github/manasa133/CSPP-1-2019/blob/master/Module_2.ipynb\" target=\"_parent\"><img src=\"https://colab.research.google.com/assets/colab-badge.svg\" alt=\"Open In Colab\"/></a>"
      ]
    },
    {
      "cell_type": "markdown",
      "metadata": {
        "id": "1nfGnZ3ectSD",
        "colab_type": "text"
      },
      "source": [
        "1. Write an expressions in the Calculator program. Store the result in the result variable.\n"
      ]
    },
    {
      "cell_type": "code",
      "metadata": {
        "id": "WZRPbnJVdKlz",
        "colab_type": "code",
        "colab": {
          "base_uri": "https://localhost:8080/",
          "height": 85
        },
        "outputId": "05a109bc-f29c-47e6-bad4-96b5af719138"
      },
      "source": [
        "# Addition\n",
        "def add(a,b):\n",
        "  return a+b\n",
        "  return result\n",
        "assert add(2,3)==5\n",
        "assert add(5.8,4)==9.8\n",
        "assert add(0,0)==0\n",
        "assert add(-34,7)==-27\n",
        "print(\"All testcases are passed!\")\n",
        "\n",
        "\n",
        "#Substraction\n",
        "def sub(a,b):\n",
        "  return a-b\n",
        "  return result\n",
        "assert sub(2,3)==-1\n",
        "assert sub(5.8,4)==1.7999999999999998\n",
        "assert sub(0,0)==0\n",
        "assert sub(-34,7)==-41\n",
        "print(\"All testcases are passed!\")\n",
        "\n",
        "\n",
        "#Multiplication\n",
        "def mul(a,b):\n",
        "  return a*b\n",
        "  return result\n",
        "assert mul(2,3)==6\n",
        "assert mul(5.8,4)==23.2\n",
        "assert mul(0,0)==0\n",
        "assert mul(-34,7)==-238\n",
        "print(\"All testcases are passed!\")\n",
        "  \n",
        "\n",
        "#Division\n",
        "def div(a,b):\n",
        "  return a/b\n",
        "  return result\n",
        "assert div(2,3)==0.6666666666666666\n",
        "assert div(5.8,4)==1.45\n",
        "assert div(-34,7)==-4.857142857142857\n",
        "print(\"All testcases are passed!\")"
      ],
      "execution_count": 21,
      "outputs": [
        {
          "output_type": "stream",
          "text": [
            "All testcases are passed!\n",
            "All testcases are passed!\n",
            "All testcases are passed!\n",
            "All testcases are passed!\n"
          ],
          "name": "stdout"
        }
      ]
    },
    {
      "cell_type": "markdown",
      "metadata": {
        "id": "feDZzZKMfqxs",
        "colab_type": "text"
      },
      "source": [
        "2. Write an expression that returns the average of 5 numbers."
      ]
    },
    {
      "cell_type": "code",
      "metadata": {
        "id": "P1cGkwJof2pP",
        "colab_type": "code",
        "colab": {}
      },
      "source": [
        "def average(a,b,c,d):\n",
        "  #code\n",
        "  return result\n",
        "assert average(2,3,4,5)==3.5\n",
        "assert average(2,3,4,0)==2.25\n",
        "assert average(0,0,0,0)==0.0\n",
        "assert average(0.5,9.8,32,289)==82.825 \n",
        "print(\"All testcases are passed!\")"
      ],
      "execution_count": 0,
      "outputs": []
    },
    {
      "cell_type": "markdown",
      "metadata": {
        "id": "0mLyG2zBlOij",
        "colab_type": "text"
      },
      "source": [
        " 3. Write expresssions to find simple interest for given principal amount, time and rate of interest. "
      ]
    },
    {
      "cell_type": "code",
      "metadata": {
        "id": "KGVX2I25lbHa",
        "colab_type": "code",
        "colab": {
          "base_uri": "https://localhost:8080/",
          "height": 102
        },
        "outputId": "c505d26e-3087-436e-b9f1-a1d153386ff5"
      },
      "source": [
        "def si(p,t,r):\n",
        "  return(p*t*r)/(100)\n",
        "assert(si(2,3,4))==0.24\n",
        "print(si(100,2,300))==600.0\n",
        "print(si(0,5,-3))==0.0\n",
        "print(si(1,1,1))==0.01\n",
        "print(si(300,-4,8))=-96.0"
      ],
      "execution_count": 25,
      "outputs": [
        {
          "output_type": "stream",
          "text": [
            "0.24\n",
            "600.0\n",
            "0.0\n",
            "0.01\n",
            "-96.0\n"
          ],
          "name": "stdout"
        }
      ]
    },
    {
      "cell_type": "markdown",
      "metadata": {
        "id": "FhDyMNL1rYw8",
        "colab_type": "text"
      },
      "source": [
        "4. Write expresssions to find compound interest for given principal amount, time and rate of interest."
      ]
    },
    {
      "cell_type": "code",
      "metadata": {
        "id": "8M8RHeDkrrPc",
        "colab_type": "code",
        "colab": {
          "base_uri": "https://localhost:8080/",
          "height": 102
        },
        "outputId": "75be8169-bb24-423f-9ce2-e26e6ac6ac10"
      },
      "source": [
        "def ci(p,t,r):\n",
        "  result = p * (pow((1 + r / 100), t)) \n",
        "  return result\n",
        "print(ci(2,3,4))==2.249728\n",
        "print(ci(100,2,300))==1600.0\n",
        "print(ci(0,5,-3))==0.0\n",
        "print(ci(1,1,1))==1.01\n",
        "print(ci(300,-4,8))==220.50895583893598\n"
      ],
      "execution_count": 27,
      "outputs": [
        {
          "output_type": "stream",
          "text": [
            "2.249728\n",
            "1600.0\n",
            "0.0\n",
            "1.01\n",
            "220.50895583893598\n"
          ],
          "name": "stdout"
        }
      ]
    },
    {
      "cell_type": "markdown",
      "metadata": {
        "id": "Uth2nE1OwhMW",
        "colab_type": "text"
      },
      "source": [
        "5. Write the expressions to find the area of the circle"
      ]
    },
    {
      "cell_type": "code",
      "metadata": {
        "id": "7OBpakQns98P",
        "colab_type": "code",
        "colab": {
          "base_uri": "https://localhost:8080/",
          "height": 129
        },
        "outputId": "0780216e-e72d-47f6-d102-cdf7c1a0769d"
      },
      "source": [
        "def findArea(r): \n",
        "    PI = 3.142\n",
        "    return PI * (r*r) \n",
        "print (findArea(456))==653334.912\n",
        "print(findArea(78)==19115.928\n",
        "print(findArea(4.55)==65.04725499999999\n",
        "print(findArea(5.0)==78.55"
      ],
      "execution_count": 29,
      "outputs": [
        {
          "output_type": "error",
          "ename": "SyntaxError",
          "evalue": "ignored",
          "traceback": [
            "\u001b[0;36m  File \u001b[0;32m\"<ipython-input-29-5b3e0bfe74ee>\"\u001b[0;36m, line \u001b[0;32m6\u001b[0m\n\u001b[0;31m    print(findArea(4.55)==65.04725499999999\u001b[0m\n\u001b[0m        ^\u001b[0m\n\u001b[0;31mSyntaxError\u001b[0m\u001b[0;31m:\u001b[0m invalid syntax\n"
          ]
        }
      ]
    }
  ]
}