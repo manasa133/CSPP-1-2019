{
  "nbformat": 4,
  "nbformat_minor": 0,
  "metadata": {
    "colab": {
      "name": "Week2_MatrixProblems.ipynb",
      "version": "0.3.2",
      "provenance": [],
      "include_colab_link": true
    },
    "kernelspec": {
      "name": "python3",
      "display_name": "Python 3"
    }
  },
  "cells": [
    {
      "cell_type": "markdown",
      "metadata": {
        "id": "view-in-github",
        "colab_type": "text"
      },
      "source": [
        "<a href=\"https://colab.research.google.com/github/manasa133/CSPP-1-2019/blob/master/Week2_MatrixProblems.ipynb\" target=\"_parent\"><img src=\"https://colab.research.google.com/assets/colab-badge.svg\" alt=\"Open In Colab\"/></a>"
      ]
    },
    {
      "metadata": {
        "id": "Ec_qNMYfhXmR",
        "colab_type": "text"
      },
      "cell_type": "markdown",
      "source": [
        "You will be working on nested list which contains integers in this section. They are also called as matrices\n",
        "eg :\n",
        "m=[[1,2,3],[4,5,6],[7,8,9]]"
      ]
    },
    {
      "metadata": {
        "id": "Y4KDAM1Riuug",
        "colab_type": "text"
      },
      "cell_type": "markdown",
      "source": [
        "Write a program which returns the count of number of rows present in the given matrix"
      ]
    },
    {
      "metadata": {
        "id": "NGaFh9Msi80K",
        "colab_type": "code",
        "colab": {
          "base_uri": "https://localhost:8080/",
          "height": 34
        },
        "outputId": "acd9d7d8-3d5f-470a-f279-843c41db8b87"
      },
      "cell_type": "code",
      "source": [
        "def count_rows(matrix):\n",
        "  pass\n",
        "\n",
        "input1 = eval(\"[[1,2,3],[4,5,6],[7,8,9]]\")\n",
        "assert count_rows(input1)==3\n",
        "input2 = eval(\"[[1,2,3],[4,5,6],[7,8,9],[10,11,12]]\")\n",
        "assert count_rows(input2)==4\n",
        "input3= eval(\"[[1,2,3]]\")\n",
        "assert = count_rows(input3)==1\n",
        "input4=eval(\"[]\")\n",
        "assert = count_rows(input4)==0\n",
        "print(\"All testcases are passed\")\n"
      ],
      "execution_count": 3,
      "outputs": [
        {
          "output_type": "stream",
          "text": [
            "[[1, 2, 3], [4, 5, 6], [7, 8, 9]]\n"
          ],
          "name": "stdout"
        }
      ]
    },
    {
      "metadata": {
        "id": "7yrUJGaxmNZv",
        "colab_type": "text"
      },
      "cell_type": "markdown",
      "source": [
        "Write  a program which returns the count of number of columns present in the given matrix"
      ]
    },
    {
      "metadata": {
        "id": "DN8IQNNkmjOK",
        "colab_type": "code",
        "colab": {}
      },
      "cell_type": "code",
      "source": [
        "def count_cols(matrix):\n",
        "  pass\n",
        "\n",
        "input1 = eval(\"[[1,2,3],[4,5,6],[7,8,9]]\")\n",
        "assert count_cols(input1)==3\n",
        "input2 = eval(\"[[1,2,3,4,5],[4,5,6,7,8],[7,8,9,7,8],[10,11,12,6,7]]\")\n",
        "assert count_cols(input2)==5\n",
        "input3= eval(\"[[1,2,3]]\")\n",
        "assert = count_cols(input3)==3\n",
        "input4=eval(\"[]\")\n",
        "assert = count_cols(input4)==0\n",
        "print(\"All testcases are passed\")\n"
      ],
      "execution_count": 0,
      "outputs": []
    },
    {
      "metadata": {
        "id": "K5a_Bm9BndjY",
        "colab_type": "text"
      },
      "cell_type": "markdown",
      "source": [
        "Write a program that takes 2 matrices as input and performs the addition on the matrix and returns it as the result."
      ]
    },
    {
      "metadata": {
        "id": "cajokhxdoSqe",
        "colab_type": "code",
        "colab": {}
      },
      "cell_type": "code",
      "source": [
        "def add(mat1, mat2):\n",
        "  pass\n",
        "\n"
      ],
      "execution_count": 0,
      "outputs": []
    }
  ]
}