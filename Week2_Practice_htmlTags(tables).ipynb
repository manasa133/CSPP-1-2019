{
  "nbformat": 4,
  "nbformat_minor": 0,
  "metadata": {
    "colab": {
      "name": "Week2_Practice_htmlTags(tables).ipynb",
      "version": "0.3.2",
      "provenance": [],
      "include_colab_link": true
    },
    "kernelspec": {
      "name": "python3",
      "display_name": "Python 3"
    }
  },
  "cells": [
    {
      "cell_type": "markdown",
      "metadata": {
        "id": "view-in-github",
        "colab_type": "text"
      },
      "source": [
        "<a href=\"https://colab.research.google.com/github/manasa133/CSPP-1-2019/blob/master/Week2_Practice_htmlTags(tables).ipynb\" target=\"_parent\"><img src=\"https://colab.research.google.com/assets/colab-badge.svg\" alt=\"Open In Colab\"/></a>"
      ]
    },
    {
      "metadata": {
        "id": "TOwuHFRawogT",
        "colab_type": "text"
      },
      "cell_type": "markdown",
      "source": [
        "You are given a table in the form of html tags. Now extract  table and return the in a matrix format\n",
        "\n",
        "ex:\n",
        "<h2>Basic HTML Table</h2>\n",
        "\n",
        "<table >\n",
        "  <tr>\n",
        "    <td>1</td>\n",
        "    <td>2</td>\n",
        "    <td>3</td>\n",
        "  </tr>\n",
        "  <tr>\n",
        "    <td>4</td>\n",
        "    <td>5</td>\n",
        "    <td>6</td>\n",
        "  </tr>\n",
        "  <tr>\n",
        "    <td>7</td>\n",
        "    <td>8</td>\n",
        "    <td>9</td>\n",
        "  </tr>\n",
        "</table>\n",
        "\n",
        "output :[[1,2,3],[4,5,6],[7,8,9]]\n",
        "\n"
      ]
    },
    {
      "metadata": {
        "id": "wHOfqfxyyS7z",
        "colab_type": "code",
        "colab": {}
      },
      "cell_type": "code",
      "source": [
        "def get_matrix(html):\n",
        "  pass\n",
        "\n",
        "html = '''<h2>Basic HTML Table</h2><table ><tr><td>1</td><td>2</td><td>3</td></tr><tr><td>4</td><td>5</td><td>6</td></tr><tr><td>7</td><td>8</td><td>9</td></tr></table>'''"
      ],
      "execution_count": 0,
      "outputs": []
    },
    {
      "metadata": {
        "id": "I3dXZ861ybxf",
        "colab_type": "text"
      },
      "cell_type": "markdown",
      "source": [
        "You are given two tables in the form of html tags. Now extract tables and return the sum of the matrixes\n",
        "\n",
        "ex:"
      ]
    }
  ]
}