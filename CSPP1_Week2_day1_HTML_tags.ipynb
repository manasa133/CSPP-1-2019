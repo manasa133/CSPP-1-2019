{
  "nbformat": 4,
  "nbformat_minor": 0,
  "metadata": {
    "colab": {
      "name": "CSPP1_Week2_day1:HTML tags",
      "version": "0.3.2",
      "provenance": [],
      "collapsed_sections": [],
      "include_colab_link": true
    },
    "kernelspec": {
      "name": "python3",
      "display_name": "Python 3"
    }
  },
  "cells": [
    {
      "cell_type": "markdown",
      "metadata": {
        "id": "view-in-github",
        "colab_type": "text"
      },
      "source": [
        "<a href=\"https://colab.research.google.com/github/manasa133/CSPP-1-2019/blob/master/CSPP1_Week2_day1_HTML_tags.ipynb\" target=\"_parent\"><img src=\"https://colab.research.google.com/assets/colab-badge.svg\" alt=\"Open In Colab\"/></a>"
      ]
    },
    {
      "metadata": {
        "id": "6gOhb7ASiLYr",
        "colab_type": "text"
      },
      "cell_type": "markdown",
      "source": [
        "Problem Statement :\n",
        "\n",
        " You have to write python code for extracting data from a string which is in the HTML format. The given html code is respossible for displaying the items line by line with a bullet.\n",
        " <h2>An unordered HTML list</h2>\n",
        "<ul>\n",
        "  <li>Coffee</li>\n",
        "  <li>Tea</li>\n",
        "  <li>Milk</li>\n",
        "  <li>Chocolate</li>\n",
        "  <li>Water</li>\n",
        "  <li>Apple Juice</li>\n",
        "  <li>Coconut Water</li>\n",
        "  <li>Sugarcane Juice</li>\n",
        "</ul>  "
      ]
    },
    {
      "metadata": {
        "id": "iZhkyDyAsbh7",
        "colab_type": "text"
      },
      "cell_type": "markdown",
      "source": [
        "Write a program that returns the count of the items present in the string"
      ]
    },
    {
      "metadata": {
        "id": "gDXlZbccsogT",
        "colab_type": "code",
        "colab": {
          "base_uri": "https://localhost:8080/",
          "height": 34
        },
        "outputId": "d135f85f-735d-4eac-db9e-b0f303b2f0a5"
      },
      "cell_type": "code",
      "source": [
        "def get_count(html):\n",
        "  if(len(html)==0):\n",
        "    return None\n",
        "  return html.count(\"<li>\")\n",
        "  \n",
        "  \n",
        "assert get_count('''<h2>An unordered HTML List</h2><ul><li>Coffee</li><li>Tea</li><li>Milk</li><li>Chocolate</li><li>Water</li><li>Apple Juice</li><li>Coconut Water</li><li>Sugarcane Juice</li></ul>''')==8\n",
        "assert get_count('''<h2>An unordered HTML List</h2><ul><li>Coffee</li><li>Tea</li><li>Milk</li><li>Chocolate</li><li>Water</li></ul>''')==5\n",
        "assert get_count('''<h2>An unordered HTML List</h2><ul><li>Coffee</li></ul>''')==1\n",
        "assert get_count(\"\")==None\n",
        "print(\"All testcases are passed\")"
      ],
      "execution_count": 3,
      "outputs": [
        {
          "output_type": "stream",
          "text": [
            "All testcases are passed\n"
          ],
          "name": "stdout"
        }
      ]
    },
    {
      "metadata": {
        "id": "DpzUYaVfuPOT",
        "colab_type": "text"
      },
      "cell_type": "markdown",
      "source": [
        "Write a program that returns true if the given item is present in the string, else false"
      ]
    },
    {
      "metadata": {
        "id": "TL4RVU4cu53D",
        "colab_type": "code",
        "colab": {
          "base_uri": "https://localhost:8080/",
          "height": 35
        },
        "outputId": "d3f4ad66-379d-4092-f0bb-7e87532ce6ec"
      },
      "cell_type": "code",
      "source": [
        "def item_exists(html, target):\n",
        "  if target in html:\n",
        "      return True\n",
        "  return False\n",
        " \n",
        "assert item_exists('''<h2>An unordered HTML List</h2><ul><li>Coffee</li><li>Tea</li><li>Milk</li><li>Chocolate</li><li>Water</li><li>Apple Juice</li><li>Coconut Water</li><li>Sugarcane Juice</li></ul>''',\"Sugarcane Juice\")==True\n",
        "assert item_exists('''<h2>An unordered HTML List</h2><ul><li>Coffee</li><li>Tea</li><li>Milk</li><li>Chocolate</li><li>Water</li></ul>''',\"Mango Juice\")==False\n",
        "assert item_exists('''<h2>An unordered HTML List</h2><ul><li>Coffee</li></ul>''',\"Coffee\")==True\n",
        "assert item_exists(\"\",\"Tea\")==False\n",
        "print(\"All testcases are passed\")"
      ],
      "execution_count": 6,
      "outputs": [
        {
          "output_type": "stream",
          "text": [
            "All testcases are passed\n"
          ],
          "name": "stdout"
        }
      ]
    },
    {
      "metadata": {
        "id": "6WhNiwGyvfLo",
        "colab_type": "text"
      },
      "cell_type": "markdown",
      "source": [
        "Write a program that returns a string which contains all the items in the html with comma separated.\n"
      ]
    },
    {
      "metadata": {
        "id": "fPPYRwXlv5zM",
        "colab_type": "code",
        "colab": {
          "base_uri": "https://localhost:8080/",
          "height": 87
        },
        "outputId": "2895310a-caba-4ab1-a29b-c1948c1794a8"
      },
      "cell_type": "code",
      "source": [
        "def get_items(html):\n",
        "  if(len(html)==0):\n",
        "    return None\n",
        "  html = html[html.find(\"<ul>\"):]\n",
        "  lst = html.split(\"</li><li>\") \n",
        "  for i in [0,len(lst)-1]:\n",
        "    if(\"<ul><li>\" in lst[i]):\n",
        "      lst[i] = lst[i].replace(\"<ul><li>\",\"\")  \n",
        "    if(\"</li></ul>\" in lst[i]):\n",
        "      lst[i] = lst[i].replace(\"</li></ul>\",\"\") \n",
        "  res = \"\"\n",
        "  for each in lst:\n",
        "    res=res+each+\",\"   \n",
        "  res = res[0:len(res)-1]\n",
        "  print(res)\n",
        "  return res\n",
        "      \n",
        "      \n",
        "    \n",
        "  \n",
        "assert get_items('''<h2>An unordered HTML List</h2><ul><li>Coffee</li><li>Tea</li><li>Milk</li><li>Chocolate</li><li>Water</li><li>Apple Juice</li><li>Coconut Water</li><li>Sugarcane Juice</li></ul>''')==\"Coffee,Tea,Milk,Chocolate,Water,Apple Juice,Coconut Water,Sugarcane Juice\"\n",
        "assert get_items('''<h2>An unordered HTML List</h2><ul><li>Coffee</li><li>Tea</li><li>Milk</li><li>Chocolate</li><li>Water</li></ul>''')==\"Coffee,Tea,Milk,Chocolate,Water\"\n",
        "assert get_items('''<h2>An unordered HTML List</h2><ul><li>Coffee</li></ul>''')==\"Coffee\"\n",
        "assert get_items(\"\")==None\n",
        "print(\"All testcases are passed\")\n"
      ],
      "execution_count": 19,
      "outputs": [
        {
          "output_type": "stream",
          "text": [
            "Coffee,Tea,Milk,Chocolate,Water,Apple Juice,Coconut Water,Sugarcane Juice\n",
            "Coffee,Tea,Milk,Chocolate,Water\n",
            "Coffee\n",
            "All testcases are passed\n"
          ],
          "name": "stdout"
        }
      ]
    },
    {
      "metadata": {
        "id": "edoRQ7sYw1QB",
        "colab_type": "text"
      },
      "cell_type": "markdown",
      "source": [
        "Write a program that returns the nth item from the given html string."
      ]
    },
    {
      "metadata": {
        "id": "sjUJSn9kw_PD",
        "colab_type": "code",
        "colab": {}
      },
      "cell_type": "code",
      "source": [
        "def get_nth_item(html,n):\n",
        "  pass\n",
        "assert get_nth_item('''<h2>An unordered HTML List</h2><ul><li>Coffee</li><li>Tea</li><li>Milk</li><li>Chocolate</li><li>Water</li><li>Apple Juice</li><li>Coconut Water</li><li>Sugarcane Juice</li></ul>''', 4)==\"Chocolate\"\n",
        "assert get_nth_item('''<h2>An unordered HTML List</h2><ul><li>Coffee</li><li>Tea</li><li>Milk</li><li>Chocolate</li><li>Water</li></ul>''',2)==\"Tea\"\n",
        "assert get_nth_item('''<h2>An unordered HTML List</h2><ul><li>Coffee</li></ul>''',1)==\"Coffee\"\n",
        "assert get_nth_item(\"\")==None\n",
        "print(\"All testcases are passed\")"
      ],
      "execution_count": 0,
      "outputs": []
    },
    {
      "metadata": {
        "id": "QBEKAVkEz4tZ",
        "colab_type": "text"
      },
      "cell_type": "markdown",
      "source": [
        "Write a program that return true if the any item occurs multiple time, else false."
      ]
    },
    {
      "metadata": {
        "id": "m09Udp5W0KDs",
        "colab_type": "code",
        "colab": {}
      },
      "cell_type": "code",
      "source": [
        "def duplicate_items(html):\n",
        "  pass\n",
        "assert duplicate_items('''<h2>An unordered HTML List</h2><ul><li>Coffee</li><li>Tea</li><li>Milk</li><li>Chocolate</li><li>Water</li><li>Apple Juice</li><li>Coconut Water</li><li>Sugarcane Juice</li><li>Apple Juice</li></ul>''')==True\n",
        "assert duplicate_itemss('''<h2>An unordered HTML List</h2><ul><li>Coffee</li><li>Tea</li><li>Milk</li><li>Chocolate</li><li>Tea</li><li>Water</li></ul>''',2)==True\n",
        "assert duplicate_items('''<h2>An unordered HTML List</h2><ul><li>Coffee</li></ul>''')==False\n",
        "assert duplicate_items(\"\")==None\n",
        "print(\"All testcases are passed\")"
      ],
      "execution_count": 0,
      "outputs": []
    }
  ]
}