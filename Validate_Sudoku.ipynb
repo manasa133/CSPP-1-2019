{
  "nbformat": 4,
  "nbformat_minor": 0,
  "metadata": {
    "colab": {
      "name": "Validate_Sudoku.ipynb",
      "version": "0.3.2",
      "provenance": [],
      "collapsed_sections": [],
      "include_colab_link": true
    },
    "kernelspec": {
      "name": "python3",
      "display_name": "Python 3"
    }
  },
  "cells": [
    {
      "cell_type": "markdown",
      "metadata": {
        "id": "view-in-github",
        "colab_type": "text"
      },
      "source": [
        "<a href=\"https://colab.research.google.com/github/manasa133/CSPP-1-2019/blob/master/Validate_Sudoku.ipynb\" target=\"_parent\"><img src=\"https://colab.research.google.com/assets/colab-badge.svg\" alt=\"Open In Colab\"/></a>"
      ]
    },
    {
      "metadata": {
        "id": "thnpNMjoqJ5a",
        "colab_type": "text"
      },
      "cell_type": "markdown",
      "source": [
        "You are given a Sudoku as the input and  you need to implement the following fuctions.\n",
        "\n",
        "<!-- sample input:(each rw is separated by /)\n",
        "435269781/682571493/197834562/826195347/347682915/951743628/519326874/248957136/763418259 -->"
      ]
    },
    {
      "metadata": {
        "id": "KdRj5Z3n2JdN",
        "colab_type": "text"
      },
      "cell_type": "markdown",
      "source": [
        "Write a program that checks whether all the rows in the sudoku are valid or not. if valid  return true or else false"
      ]
    },
    {
      "metadata": {
        "id": "VnvGCIjp8VGY",
        "colab_type": "code",
        "colab": {}
      },
      "cell_type": "code",
      "source": [
        "def validate_rows(sudoku):\n",
        "  pass\n",
        "\n",
        "\n",
        "input1 = eval(\"[[4,3,5,2,6,9,7,8,1],[6,8,2,5,7,1,4,9,3],[1,9,7,8,3,4,5,6,2],[8,2,6,1,9,5,3,4,7],[3,4,7,6,8,2,9,1,5][9,5,1,7,4,3,6,2,8][5,1,9,3,2,6,8,7,4][2,4,8,9,5,7,1,3,6][7,6,3,4,1,8,2,5,9]]\")\n",
        "assert validate_rows(input1)==True\n",
        "input2 = eval(\"[[4,3,5,2,6,9,7,8,1],[6,8,2,5,7,1,4,9,3],[1,9,7,8,3,4,5,2,2],[8,2,6,1,9,5,3,4,7],[3,4,7,6,8,3,9,1,5][9,5,1,7,4,2,6,2,8][5,1,9,3,2,6,8,7,4][2,4,8,9,5,7,1,3,6][7,6,3,4,1,8,2,5,9]]\")\n",
        "assert validate_rows(input2)==False\n",
        "input3 = eval(\"[[6,3,5,2,6,9,7,8,1],[6,8,2,5,7,1,4,9,3],[1,9,7,8,3,4,5,2,2],[8,2,6,1,9,5,3,4,7],[3,4,7,6,8,3,9,1,5][5,5,1,7,4,2,6,2,8][5,1,9,3,2,6,8,7,4][2,4,8,9,5,7,1,3,6][7,6,3,4,1,8,2,5,9]]\")\n",
        "assert validate_rows(input3)==False\n",
        "print(\"All testcases\")\n",
        "\n",
        "\n",
        "\n"
      ],
      "execution_count": 0,
      "outputs": []
    },
    {
      "metadata": {
        "id": "GDzNTaeVStVh",
        "colab_type": "text"
      },
      "cell_type": "markdown",
      "source": [
        "Write a program that checks whether all the columns in the sudoku are valid or not. if valid return true"
      ]
    },
    {
      "metadata": {
        "id": "Fv5WUUl1ZcQI",
        "colab_type": "code",
        "colab": {}
      },
      "cell_type": "code",
      "source": [
        "def validate_cols(sudoku):\n",
        "  pass\n",
        "\n",
        "\n",
        "input1 = eval(\"[[4,3,5,2,6,9,7,8,1],[6,8,2,5,7,1,4,9,3],[1,9,7,8,3,4,5,6,2],[8,2,6,1,9,5,3,4,7],[3,4,7,6,8,2,9,1,5][9,5,1,7,4,3,6,2,8][5,1,9,3,2,6,8,7,4][2,4,8,9,5,7,1,3,6][7,6,3,4,1,8,2,5,9]]\")\n",
        "assert validate_cols(input1)==True\n",
        "input2 = eval(\"[[4,3,5,2,6,9,7,8,1],[6,8,2,5,7,1,4,9,3],[1,8,7,8,3,4,5,2,2],[8,8,6,1,9,5,3,4,7],[3,4,7,6,8,3,9,1,5][9,5,1,7,4,2,6,2,8][5,1,9,3,2,6,8,7,4][2,4,8,9,5,7,1,3,6][7,6,3,4,1,8,2,5,9]]\")\n",
        "assert validate_cols(input2)==False\n",
        "input3 = eval(\"[[6,3,5,2,6,9,7,8,1],[6,8,2,5,7,1,4,9,3],[1,9,7,8,3,4,5,2,2],[1,2,6,1,9,5,3,4,7],[3,4,7,6,8,3,9,1,5][5,5,1,7,4,2,6,2,8][5,1,9,3,2,6,8,7,4][2,4,8,9,5,7,1,3,6][7,6,3,4,1,8,2,5,9]]\")\n",
        "assert validate_cols(input3)==False\n",
        "print(\"All testcases\")"
      ],
      "execution_count": 0,
      "outputs": []
    },
    {
      "metadata": {
        "id": "aBcWZKDSaEUc",
        "colab_type": "text"
      },
      "cell_type": "markdown",
      "source": [
        "Write a program that checks whether all the grids in the sudoku are valid or not. if valid, return true else false."
      ]
    },
    {
      "metadata": {
        "id": "D3cL_7IpasNZ",
        "colab_type": "code",
        "colab": {}
      },
      "cell_type": "code",
      "source": [
        "def validate_grids(sudoku):\n",
        "  pass\n",
        "\n",
        "\n",
        "input1 = eval(\"[[4,3,5,2,6,9,7,8,1],[6,8,2,5,7,1,4,9,3],[1,9,7,8,3,4,5,6,2],[8,2,6,1,9,5,3,4,7],[3,4,7,6,8,2,9,1,5][9,5,1,7,4,3,6,2,8][5,1,9,3,2,6,8,7,4][2,4,8,9,5,7,1,3,6][7,6,3,4,1,8,2,5,9]]\")\n",
        "assert validate_grids(input1)==True\n",
        "input2 = eval(\"[[4,3,5,2,6,9,7,8,1],[6,8,2,5,7,1,4,9,3],[1,8,7,8,3,4,5,2,2],[8,8,6,1,9,5,3,4,7],[3,4,7,6,8,3,9,1,5][9,5,1,7,4,2,6,2,8][5,1,9,3,2,6,8,7,4][2,4,8,9,5,7,1,3,6][7,6,3,4,1,8,2,5,9]]\")\n",
        "assert validate_grids(input2)==False\n",
        "input3 = eval(\"[[6,3,5,2,6,9,7,8,1],[6,8,2,5,7,1,4,9,3],[1,9,7,8,3,4,5,2,2],[1,2,6,1,9,5,3,4,7],[3,4,7,6,8,3,9,1,5][5,5,1,7,4,2,6,2,8][5,1,9,3,2,6,8,7,4][2,4,8,9,5,7,1,3,6][7,6,3,4,1,8,2,5,9]]\")\n",
        "assert validate_grids(input3)==False\n",
        "print(\"All testcases\")"
      ],
      "execution_count": 0,
      "outputs": []
    }
  ]
}